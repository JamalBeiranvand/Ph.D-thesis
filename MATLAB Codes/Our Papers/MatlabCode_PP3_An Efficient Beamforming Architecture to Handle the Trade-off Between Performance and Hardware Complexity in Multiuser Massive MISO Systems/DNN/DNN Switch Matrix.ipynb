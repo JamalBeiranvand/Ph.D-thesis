{
 "cells": [
  {
   "cell_type": "code",
   "execution_count": 15,
   "id": "4e49968d",
   "metadata": {},
   "outputs": [
    {
     "name": "stdout",
     "output_type": "stream",
     "text": [
      "(66666, 256, 10, 3)\n",
      "(66666, 2560)\n"
     ]
    }
   ],
   "source": [
    "import numpy as np\n",
    "#from utils2 import *\n",
    "from tensorflow.keras.layers import *\n",
    "from tensorflow.keras import *\n",
    "import tensorflow as tf\n",
    "\n",
    "import matplotlib.pyplot as plot\n",
    "\n",
    "# https://numpy.org/doc/stable/user/numpy-for-matlab-users.html\n",
    "import numpy.matlib as M\n",
    "\n",
    "from keras import backend as K\n",
    "\n",
    "\n",
    "# Load MATLAB variables saved to the file data.mat. (Note: When saving arrays to data.mat in MATLAB/Octave,\n",
    "# use a recent binary format. scipy.io.loadmat will create a dictionary with the saved arrays and further information.)\n",
    "import scipy.io as io\n",
    "\n",
    "\n",
    "#Input=io.loadmat(r\"C:\\Users\\Jamal\\OneDrive\\Jamal\\MATLAB Code\\Our Papers\\Matlabcodes__Dynamic Structure\\DataSet\\TrainingData.mat\")\n",
    "Input=io.loadmat(r\"D:\\Data Set\\Data1\\TrainingData.mat\")\n",
    "H_input=Input['TrainingData']\n",
    "print(H_input.shape)\n",
    "\n",
    "#Input=io.loadmat(r\"C:\\Users\\Jamal\\OneDrive\\Jamal\\MATLAB Code\\Our Papers\\Matlabcodes__Dynamic Structure\\DataSet\\TrainingSwitchMatrix.mat\")\n",
    "Input=io.loadmat(r\"D:\\Data Set\\Data1\\TrainingSwitchMatrix.mat\")\n",
    "Label=Input['TrainingSwitchMatrix']\n",
    "print(Label.shape)\n",
    "#Nt=Label.shape[1]\n",
    "#K=Label.shape[2]\n",
    "num_classes=Label.shape[1]"
   ]
  },
  {
   "cell_type": "code",
   "execution_count": 16,
   "id": "0e01e552",
   "metadata": {},
   "outputs": [
    {
     "name": "stdout",
     "output_type": "stream",
     "text": [
      "Model: \"model_3\"\n",
      "_________________________________________________________________\n",
      " Layer (type)                Output Shape              Param #   \n",
      "=================================================================\n",
      " imperfect_CSI (InputLayer)  [(None, 256, 10, 3)]      0         \n",
      "                                                                 \n",
      " batch_normalization_3 (Batc  (None, 256, 10, 3)       12        \n",
      " hNormalization)                                                 \n",
      "                                                                 \n",
      " flatten_3 (Flatten)         (None, 7680)              0         \n",
      "                                                                 \n",
      " dense_3 (Dense)             (None, 2560)              19663360  \n",
      "                                                                 \n",
      " FC_layer4 (Dense)           (None, 2560)              6556160   \n",
      "                                                                 \n",
      " activation_3 (Activation)   (None, 2560)              0         \n",
      "                                                                 \n",
      "=================================================================\n",
      "Total params: 26,219,532\n",
      "Trainable params: 26,219,526\n",
      "Non-trainable params: 6\n",
      "_________________________________________________________________\n"
     ]
    }
   ],
   "source": [
    "# imperfect CSI is used to output the vrf\n",
    "imperfect_CSI = tf.keras.Input(name='imperfect_CSI', shape=(H_input.shape[1:4]), dtype=tf.float32)\n",
    "temp = BatchNormalization()(imperfect_CSI)\n",
    "temp = Flatten()(temp)\n",
    "#temp = BatchNormalization()(temp)\n",
    "temp = Dense(num_classes, activation='relu')(temp)\n",
    "#temp = BatchNormalization()(temp)\n",
    "#temp = Dense(num_classes, activation='relu')(temp)\n",
    "#temp = BatchNormalization()(temp)\n",
    "output= Dense(num_classes, name='FC_layer4')(temp)\n",
    "output=Activation('sigmoid')(output)\n",
    "#output_reshape  = Reshape(( Nt, K))(output)\n",
    "model = Model(inputs=[imperfect_CSI], outputs=output)\n",
    "\n",
    "def cat_loss(y_true, y_pred):\n",
    "    loss = K.mean(K.binary_crossentropy(y_true[:, 0:num_classes - 1], y_pred[:, 0:num_classes - 1]), axis=-1) \\\n",
    "             + K.mean(K.binary_crossentropy(y_true[:, num_classes:2 * num_classes - 1], y_pred[:, num_classes:2 * num_classes - 1]), axis=-1)\n",
    "    return loss\n",
    "\n",
    "adam = tf.keras.optimizers.Adam(learning_rate=0.002, beta_1=0.9, beta_2=0.999, epsilon=None, decay=0.0, amsgrad=False)\n",
    "    \n",
    "model.compile(optimizer='adam', \n",
    "              loss=tf.keras.losses.BinaryCrossentropy())\n",
    "model.summary()"
   ]
  },
  {
   "cell_type": "code",
   "execution_count": 17,
   "id": "0cf56316",
   "metadata": {},
   "outputs": [
    {
     "name": "stdout",
     "output_type": "stream",
     "text": [
      "Epoch 1/20\n",
      "134/134 [==============================] - 204s 2s/step - loss: 0.1202\n",
      "Epoch 2/20\n",
      "134/134 [==============================] - 166s 1s/step - loss: 9.2365e-04\n",
      "Epoch 3/20\n",
      "134/134 [==============================] - 139s 1s/step - loss: 3.7706e-04\n",
      "Epoch 4/20\n",
      "134/134 [==============================] - 130s 969ms/step - loss: 2.0982e-04\n",
      "Epoch 5/20\n",
      "134/134 [==============================] - 136s 1s/step - loss: 1.3483e-04\n",
      "Epoch 6/20\n",
      "134/134 [==============================] - 120s 893ms/step - loss: 9.4336e-05\n",
      "Epoch 7/20\n",
      "134/134 [==============================] - 108s 807ms/step - loss: 6.9800e-05\n",
      "Epoch 8/20\n",
      "134/134 [==============================] - 104s 776ms/step - loss: 5.3750e-05\n",
      "Epoch 9/20\n",
      "134/134 [==============================] - 105s 781ms/step - loss: 4.2651e-05\n",
      "Epoch 10/20\n",
      "134/134 [==============================] - 104s 775ms/step - loss: 3.4638e-05\n",
      "Epoch 11/20\n",
      "134/134 [==============================] - 104s 776ms/step - loss: 2.8650e-05\n",
      "Epoch 12/20\n",
      "134/134 [==============================] - 105s 782ms/step - loss: 2.4059e-05\n",
      "Epoch 13/20\n",
      "134/134 [==============================] - 101s 750ms/step - loss: 2.0457e-05\n",
      "Epoch 14/20\n",
      "134/134 [==============================] - 102s 763ms/step - loss: 1.7580e-05\n",
      "Epoch 15/20\n",
      "134/134 [==============================] - 99s 742ms/step - loss: 1.5242e-05\n",
      "Epoch 16/20\n",
      "134/134 [==============================] - 99s 741ms/step - loss: 1.3322e-05\n",
      "Epoch 17/20\n",
      "134/134 [==============================] - 99s 740ms/step - loss: 1.1722e-05\n",
      "Epoch 18/20\n",
      "134/134 [==============================] - 101s 757ms/step - loss: 1.0375e-05\n",
      "Epoch 19/20\n",
      "134/134 [==============================] - 101s 753ms/step - loss: 9.2326e-06\n",
      "Epoch 20/20\n",
      "134/134 [==============================] - 99s 742ms/step - loss: 8.2563e-06\n"
     ]
    },
    {
     "data": {
      "text/plain": [
       "<keras.callbacks.History at 0x28e9b89afd0>"
      ]
     },
     "execution_count": 17,
     "metadata": {},
     "output_type": "execute_result"
    }
   ],
   "source": [
    "Label = tf.cast(Label, tf.float32)\n",
    "model.fit(H_input, Label,batch_size=500, epochs=20)"
   ]
  },
  {
   "cell_type": "code",
   "execution_count": 18,
   "id": "0c7fd94c",
   "metadata": {},
   "outputs": [],
   "source": [
    "model.save(\"DNN1.h5\")\n"
   ]
  },
  {
   "cell_type": "code",
   "execution_count": null,
   "id": "7ce98edc",
   "metadata": {},
   "outputs": [],
   "source": []
  },
  {
   "cell_type": "code",
   "execution_count": null,
   "id": "2fedb603",
   "metadata": {},
   "outputs": [],
   "source": []
  }
 ],
 "metadata": {
  "kernelspec": {
   "display_name": "Python 3 (ipykernel)",
   "language": "python",
   "name": "python3"
  },
  "language_info": {
   "codemirror_mode": {
    "name": "ipython",
    "version": 3
   },
   "file_extension": ".py",
   "mimetype": "text/x-python",
   "name": "python",
   "nbconvert_exporter": "python",
   "pygments_lexer": "ipython3",
   "version": "3.9.7"
  }
 },
 "nbformat": 4,
 "nbformat_minor": 5
}
