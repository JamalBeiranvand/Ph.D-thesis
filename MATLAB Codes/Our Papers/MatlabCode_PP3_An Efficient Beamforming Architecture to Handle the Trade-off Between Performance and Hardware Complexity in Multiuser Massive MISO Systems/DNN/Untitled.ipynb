{
 "cells": [
  {
   "cell_type": "code",
   "execution_count": 2,
   "id": "20e44dd2",
   "metadata": {},
   "outputs": [
    {
     "ename": "FileNotFoundError",
     "evalue": "[Errno 2] No such file or directory: 'C:\\\\Users\\\\Jamal\\\\OneDrive\\\\Jamal\\\\MATLAB Code\\\\Our Papers\\\\Matlabcodes__Dynamic Structure\\\\TrainingData.mat'",
     "output_type": "error",
     "traceback": [
      "\u001b[1;31m---------------------------------------------------------------------------\u001b[0m",
      "\u001b[1;31mFileNotFoundError\u001b[0m                         Traceback (most recent call last)",
      "\u001b[1;32m~\\anaconda3\\lib\\site-packages\\scipy\\io\\matlab\\mio.py\u001b[0m in \u001b[0;36m_open_file\u001b[1;34m(file_like, appendmat, mode)\u001b[0m\n\u001b[0;32m     38\u001b[0m     \u001b[1;32mtry\u001b[0m\u001b[1;33m:\u001b[0m\u001b[1;33m\u001b[0m\u001b[1;33m\u001b[0m\u001b[0m\n\u001b[1;32m---> 39\u001b[1;33m         \u001b[1;32mreturn\u001b[0m \u001b[0mopen\u001b[0m\u001b[1;33m(\u001b[0m\u001b[0mfile_like\u001b[0m\u001b[1;33m,\u001b[0m \u001b[0mmode\u001b[0m\u001b[1;33m)\u001b[0m\u001b[1;33m,\u001b[0m \u001b[1;32mTrue\u001b[0m\u001b[1;33m\u001b[0m\u001b[1;33m\u001b[0m\u001b[0m\n\u001b[0m\u001b[0;32m     40\u001b[0m     \u001b[1;32mexcept\u001b[0m \u001b[0mIOError\u001b[0m \u001b[1;32mas\u001b[0m \u001b[0me\u001b[0m\u001b[1;33m:\u001b[0m\u001b[1;33m\u001b[0m\u001b[1;33m\u001b[0m\u001b[0m\n",
      "\u001b[1;31mFileNotFoundError\u001b[0m: [Errno 2] No such file or directory: 'C:\\\\Users\\\\Jamal\\\\OneDrive\\\\Jamal\\\\MATLAB Code\\\\Our Papers\\\\Matlabcodes__Dynamic Structure\\\\TrainingData.mat'",
      "\nDuring handling of the above exception, another exception occurred:\n",
      "\u001b[1;31mFileNotFoundError\u001b[0m                         Traceback (most recent call last)",
      "\u001b[1;32m~\\AppData\\Local\\Temp/ipykernel_10816/2695554114.py\u001b[0m in \u001b[0;36m<module>\u001b[1;34m\u001b[0m\n\u001b[0;32m     18\u001b[0m \u001b[1;33m\u001b[0m\u001b[0m\n\u001b[0;32m     19\u001b[0m \u001b[1;33m\u001b[0m\u001b[0m\n\u001b[1;32m---> 20\u001b[1;33m \u001b[0mInput\u001b[0m\u001b[1;33m=\u001b[0m\u001b[0mio\u001b[0m\u001b[1;33m.\u001b[0m\u001b[0mloadmat\u001b[0m\u001b[1;33m(\u001b[0m\u001b[1;34mr\"C:\\Users\\Jamal\\OneDrive\\Jamal\\MATLAB Code\\Our Papers\\Matlabcodes__Dynamic Structure\\TrainingData.mat\"\u001b[0m\u001b[1;33m)\u001b[0m\u001b[1;33m\u001b[0m\u001b[1;33m\u001b[0m\u001b[0m\n\u001b[0m\u001b[0;32m     21\u001b[0m \u001b[0mH_input\u001b[0m\u001b[1;33m=\u001b[0m\u001b[0mInput\u001b[0m\u001b[1;33m[\u001b[0m\u001b[1;34m'TrainingData'\u001b[0m\u001b[1;33m]\u001b[0m\u001b[1;33m\u001b[0m\u001b[1;33m\u001b[0m\u001b[0m\n\u001b[0;32m     22\u001b[0m \u001b[0mprint\u001b[0m\u001b[1;33m(\u001b[0m\u001b[0mH_input\u001b[0m\u001b[1;33m.\u001b[0m\u001b[0mshape\u001b[0m\u001b[1;33m)\u001b[0m\u001b[1;33m\u001b[0m\u001b[1;33m\u001b[0m\u001b[0m\n",
      "\u001b[1;32m~\\anaconda3\\lib\\site-packages\\scipy\\io\\matlab\\mio.py\u001b[0m in \u001b[0;36mloadmat\u001b[1;34m(file_name, mdict, appendmat, **kwargs)\u001b[0m\n\u001b[0;32m    222\u001b[0m     \"\"\"\n\u001b[0;32m    223\u001b[0m     \u001b[0mvariable_names\u001b[0m \u001b[1;33m=\u001b[0m \u001b[0mkwargs\u001b[0m\u001b[1;33m.\u001b[0m\u001b[0mpop\u001b[0m\u001b[1;33m(\u001b[0m\u001b[1;34m'variable_names'\u001b[0m\u001b[1;33m,\u001b[0m \u001b[1;32mNone\u001b[0m\u001b[1;33m)\u001b[0m\u001b[1;33m\u001b[0m\u001b[1;33m\u001b[0m\u001b[0m\n\u001b[1;32m--> 224\u001b[1;33m     \u001b[1;32mwith\u001b[0m \u001b[0m_open_file_context\u001b[0m\u001b[1;33m(\u001b[0m\u001b[0mfile_name\u001b[0m\u001b[1;33m,\u001b[0m \u001b[0mappendmat\u001b[0m\u001b[1;33m)\u001b[0m \u001b[1;32mas\u001b[0m \u001b[0mf\u001b[0m\u001b[1;33m:\u001b[0m\u001b[1;33m\u001b[0m\u001b[1;33m\u001b[0m\u001b[0m\n\u001b[0m\u001b[0;32m    225\u001b[0m         \u001b[0mMR\u001b[0m\u001b[1;33m,\u001b[0m \u001b[0m_\u001b[0m \u001b[1;33m=\u001b[0m \u001b[0mmat_reader_factory\u001b[0m\u001b[1;33m(\u001b[0m\u001b[0mf\u001b[0m\u001b[1;33m,\u001b[0m \u001b[1;33m**\u001b[0m\u001b[0mkwargs\u001b[0m\u001b[1;33m)\u001b[0m\u001b[1;33m\u001b[0m\u001b[1;33m\u001b[0m\u001b[0m\n\u001b[0;32m    226\u001b[0m         \u001b[0mmatfile_dict\u001b[0m \u001b[1;33m=\u001b[0m \u001b[0mMR\u001b[0m\u001b[1;33m.\u001b[0m\u001b[0mget_variables\u001b[0m\u001b[1;33m(\u001b[0m\u001b[0mvariable_names\u001b[0m\u001b[1;33m)\u001b[0m\u001b[1;33m\u001b[0m\u001b[1;33m\u001b[0m\u001b[0m\n",
      "\u001b[1;32m~\\anaconda3\\lib\\contextlib.py\u001b[0m in \u001b[0;36m__enter__\u001b[1;34m(self)\u001b[0m\n\u001b[0;32m    117\u001b[0m         \u001b[1;32mdel\u001b[0m \u001b[0mself\u001b[0m\u001b[1;33m.\u001b[0m\u001b[0margs\u001b[0m\u001b[1;33m,\u001b[0m \u001b[0mself\u001b[0m\u001b[1;33m.\u001b[0m\u001b[0mkwds\u001b[0m\u001b[1;33m,\u001b[0m \u001b[0mself\u001b[0m\u001b[1;33m.\u001b[0m\u001b[0mfunc\u001b[0m\u001b[1;33m\u001b[0m\u001b[1;33m\u001b[0m\u001b[0m\n\u001b[0;32m    118\u001b[0m         \u001b[1;32mtry\u001b[0m\u001b[1;33m:\u001b[0m\u001b[1;33m\u001b[0m\u001b[1;33m\u001b[0m\u001b[0m\n\u001b[1;32m--> 119\u001b[1;33m             \u001b[1;32mreturn\u001b[0m \u001b[0mnext\u001b[0m\u001b[1;33m(\u001b[0m\u001b[0mself\u001b[0m\u001b[1;33m.\u001b[0m\u001b[0mgen\u001b[0m\u001b[1;33m)\u001b[0m\u001b[1;33m\u001b[0m\u001b[1;33m\u001b[0m\u001b[0m\n\u001b[0m\u001b[0;32m    120\u001b[0m         \u001b[1;32mexcept\u001b[0m \u001b[0mStopIteration\u001b[0m\u001b[1;33m:\u001b[0m\u001b[1;33m\u001b[0m\u001b[1;33m\u001b[0m\u001b[0m\n\u001b[0;32m    121\u001b[0m             \u001b[1;32mraise\u001b[0m \u001b[0mRuntimeError\u001b[0m\u001b[1;33m(\u001b[0m\u001b[1;34m\"generator didn't yield\"\u001b[0m\u001b[1;33m)\u001b[0m \u001b[1;32mfrom\u001b[0m \u001b[1;32mNone\u001b[0m\u001b[1;33m\u001b[0m\u001b[1;33m\u001b[0m\u001b[0m\n",
      "\u001b[1;32m~\\anaconda3\\lib\\site-packages\\scipy\\io\\matlab\\mio.py\u001b[0m in \u001b[0;36m_open_file_context\u001b[1;34m(file_like, appendmat, mode)\u001b[0m\n\u001b[0;32m     15\u001b[0m \u001b[1;33m@\u001b[0m\u001b[0mcontextmanager\u001b[0m\u001b[1;33m\u001b[0m\u001b[1;33m\u001b[0m\u001b[0m\n\u001b[0;32m     16\u001b[0m \u001b[1;32mdef\u001b[0m \u001b[0m_open_file_context\u001b[0m\u001b[1;33m(\u001b[0m\u001b[0mfile_like\u001b[0m\u001b[1;33m,\u001b[0m \u001b[0mappendmat\u001b[0m\u001b[1;33m,\u001b[0m \u001b[0mmode\u001b[0m\u001b[1;33m=\u001b[0m\u001b[1;34m'rb'\u001b[0m\u001b[1;33m)\u001b[0m\u001b[1;33m:\u001b[0m\u001b[1;33m\u001b[0m\u001b[1;33m\u001b[0m\u001b[0m\n\u001b[1;32m---> 17\u001b[1;33m     \u001b[0mf\u001b[0m\u001b[1;33m,\u001b[0m \u001b[0mopened\u001b[0m \u001b[1;33m=\u001b[0m \u001b[0m_open_file\u001b[0m\u001b[1;33m(\u001b[0m\u001b[0mfile_like\u001b[0m\u001b[1;33m,\u001b[0m \u001b[0mappendmat\u001b[0m\u001b[1;33m,\u001b[0m \u001b[0mmode\u001b[0m\u001b[1;33m)\u001b[0m\u001b[1;33m\u001b[0m\u001b[1;33m\u001b[0m\u001b[0m\n\u001b[0m\u001b[0;32m     18\u001b[0m     \u001b[1;32mtry\u001b[0m\u001b[1;33m:\u001b[0m\u001b[1;33m\u001b[0m\u001b[1;33m\u001b[0m\u001b[0m\n\u001b[0;32m     19\u001b[0m         \u001b[1;32myield\u001b[0m \u001b[0mf\u001b[0m\u001b[1;33m\u001b[0m\u001b[1;33m\u001b[0m\u001b[0m\n",
      "\u001b[1;32m~\\anaconda3\\lib\\site-packages\\scipy\\io\\matlab\\mio.py\u001b[0m in \u001b[0;36m_open_file\u001b[1;34m(file_like, appendmat, mode)\u001b[0m\n\u001b[0;32m     43\u001b[0m             \u001b[1;32mif\u001b[0m \u001b[0mappendmat\u001b[0m \u001b[1;32mand\u001b[0m \u001b[1;32mnot\u001b[0m \u001b[0mfile_like\u001b[0m\u001b[1;33m.\u001b[0m\u001b[0mendswith\u001b[0m\u001b[1;33m(\u001b[0m\u001b[1;34m'.mat'\u001b[0m\u001b[1;33m)\u001b[0m\u001b[1;33m:\u001b[0m\u001b[1;33m\u001b[0m\u001b[1;33m\u001b[0m\u001b[0m\n\u001b[0;32m     44\u001b[0m                 \u001b[0mfile_like\u001b[0m \u001b[1;33m+=\u001b[0m \u001b[1;34m'.mat'\u001b[0m\u001b[1;33m\u001b[0m\u001b[1;33m\u001b[0m\u001b[0m\n\u001b[1;32m---> 45\u001b[1;33m             \u001b[1;32mreturn\u001b[0m \u001b[0mopen\u001b[0m\u001b[1;33m(\u001b[0m\u001b[0mfile_like\u001b[0m\u001b[1;33m,\u001b[0m \u001b[0mmode\u001b[0m\u001b[1;33m)\u001b[0m\u001b[1;33m,\u001b[0m \u001b[1;32mTrue\u001b[0m\u001b[1;33m\u001b[0m\u001b[1;33m\u001b[0m\u001b[0m\n\u001b[0m\u001b[0;32m     46\u001b[0m         \u001b[1;32melse\u001b[0m\u001b[1;33m:\u001b[0m\u001b[1;33m\u001b[0m\u001b[1;33m\u001b[0m\u001b[0m\n\u001b[0;32m     47\u001b[0m             raise IOError(\n",
      "\u001b[1;31mFileNotFoundError\u001b[0m: [Errno 2] No such file or directory: 'C:\\\\Users\\\\Jamal\\\\OneDrive\\\\Jamal\\\\MATLAB Code\\\\Our Papers\\\\Matlabcodes__Dynamic Structure\\\\TrainingData.mat'"
     ]
    }
   ],
   "source": [
    "import numpy as np\n",
    "#from utils2 import *\n",
    "from tensorflow.keras.layers import *\n",
    "from tensorflow.keras import *\n",
    "import tensorflow as tf\n",
    "\n",
    "import matplotlib.pyplot as plot\n",
    "\n",
    "# https://numpy.org/doc/stable/user/numpy-for-matlab-users.html\n",
    "import numpy.matlib as M\n",
    "\n",
    "from keras import backend as K\n",
    "\n",
    "\n",
    "# Load MATLAB variables saved to the file data.mat. (Note: When saving arrays to data.mat in MATLAB/Octave,\n",
    "# use a recent binary format. scipy.io.loadmat will create a dictionary with the saved arrays and further information.)\n",
    "import scipy.io as io\n",
    "\n",
    "\n",
    "Input=io.loadmat(r\"C:\\Users\\Jamal\\OneDrive\\Jamal\\MATLAB Code\\Our Papers\\Matlabcodes__Dynamic Structure\\TrainingData.mat\")\n",
    "H_input=Input['TrainingData']\n",
    "print(H_input.shape)\n",
    "\n",
    "Input=io.loadmat(r\"C:\\Users\\Jamal\\OneDrive\\Jamal\\MATLAB Code\\Our Papers\\Matlabcodes__Dynamic Structure\\TrainingLabel.mat\")\n",
    "Label=Input['TrainingLabel']\n",
    "print(Label.shape)\n",
    "num_classes=Label.shape[1]"
   ]
  },
  {
   "cell_type": "code",
   "execution_count": 4,
   "id": "fa1add28",
   "metadata": {},
   "outputs": [
    {
     "name": "stdout",
     "output_type": "stream",
     "text": [
      "Model: \"model_1\"\n",
      "_________________________________________________________________\n",
      " Layer (type)                Output Shape              Param #   \n",
      "=================================================================\n",
      " imperfect_CSI (InputLayer)  [(None, 144, 5, 3)]       0         \n",
      "                                                                 \n",
      " batch_normalization_1 (Batc  (None, 144, 5, 3)        12        \n",
      " hNormalization)                                                 \n",
      "                                                                 \n",
      " flatten_1 (Flatten)         (None, 2160)              0         \n",
      "                                                                 \n",
      " dense_2 (Dense)             (None, 288)               622368    \n",
      "                                                                 \n",
      " dense_3 (Dense)             (None, 144)               41616     \n",
      "                                                                 \n",
      " FC_layer4 (Dense)           (None, 144)               20880     \n",
      "                                                                 \n",
      " activation_1 (Activation)   (None, 144)               0         \n",
      "                                                                 \n",
      "=================================================================\n",
      "Total params: 684,876\n",
      "Trainable params: 684,870\n",
      "Non-trainable params: 6\n",
      "_________________________________________________________________\n"
     ]
    }
   ],
   "source": [
    "# imperfect CSI is used to output the vrf\n",
    "imperfect_CSI = tf.keras.Input(name='imperfect_CSI', shape=(H_input.shape[1:4]), dtype=tf.float32)\n",
    "temp = BatchNormalization()(imperfect_CSI)\n",
    "temp = Flatten()(temp)\n",
    "#temp = BatchNormalization()(temp)\n",
    "temp = Dense(2*num_classes, activation='relu')(temp)\n",
    "#temp = BatchNormalization()(temp)\n",
    "temp = Dense(num_classes, activation='relu')(temp)\n",
    "#temp = BatchNormalization()(temp)\n",
    "output= Dense(num_classes, name='FC_layer4')(temp)\n",
    "output=Activation('sigmoid')(output)\n",
    "model = Model(inputs=[imperfect_CSI], outputs=output)\n",
    "\n",
    "def cat_loss(y_true, y_pred):\n",
    "    loss = K.mean(K.binary_crossentropy(y_true[:, 0:num_classes - 1], y_pred[:, 0:num_classes - 1]), axis=-1) \\\n",
    "             + K.mean(K.binary_crossentropy(y_true[:, num_classes:2 * num_classes - 1], y_pred[:, num_classes:2 * num_classes - 1]), axis=-1)\n",
    "    return loss\n",
    "\n",
    "adam = tf.keras.optimizers.Adam(learning_rate=0.02, beta_1=0.9, beta_2=0.999, epsilon=None, decay=0.0, amsgrad=False)\n",
    "    \n",
    "model.compile(optimizer='adam', \n",
    "              loss=tf.keras.losses.BinaryCrossentropy())\n",
    "model.summary()"
   ]
  },
  {
   "cell_type": "code",
   "execution_count": 5,
   "id": "f711e81f",
   "metadata": {},
   "outputs": [
    {
     "name": "stdout",
     "output_type": "stream",
     "text": [
      "Epoch 1/50\n",
      "400/400 [==============================] - 18s 43ms/step - loss: 0.1735\n",
      "Epoch 2/50\n",
      "400/400 [==============================] - 18s 44ms/step - loss: 0.1358\n",
      "Epoch 3/50\n",
      "400/400 [==============================] - 18s 44ms/step - loss: 0.1209\n",
      "Epoch 4/50\n",
      "400/400 [==============================] - 19s 47ms/step - loss: 0.1106\n",
      "Epoch 5/50\n",
      "400/400 [==============================] - 26s 64ms/step - loss: 0.1029\n",
      "Epoch 6/50\n",
      "400/400 [==============================] - 27s 67ms/step - loss: 0.0969\n",
      "Epoch 7/50\n",
      "400/400 [==============================] - 26s 64ms/step - loss: 0.0921\n",
      "Epoch 8/50\n",
      "400/400 [==============================] - 26s 65ms/step - loss: 0.0881\n",
      "Epoch 9/50\n",
      "400/400 [==============================] - 25s 63ms/step - loss: 0.0847\n",
      "Epoch 10/50\n",
      "400/400 [==============================] - 25s 63ms/step - loss: 0.0819\n",
      "Epoch 11/50\n",
      "400/400 [==============================] - 27s 67ms/step - loss: 0.0794\n",
      "Epoch 12/50\n",
      "400/400 [==============================] - 28s 69ms/step - loss: 0.0772\n",
      "Epoch 13/50\n",
      "400/400 [==============================] - 26s 65ms/step - loss: 0.0753\n",
      "Epoch 14/50\n",
      "400/400 [==============================] - 26s 64ms/step - loss: 0.0735\n",
      "Epoch 15/50\n",
      "400/400 [==============================] - 25s 63ms/step - loss: 0.0719\n",
      "Epoch 16/50\n",
      "400/400 [==============================] - 27s 68ms/step - loss: 0.0705\n",
      "Epoch 17/50\n",
      "400/400 [==============================] - 28s 69ms/step - loss: 0.0692\n",
      "Epoch 18/50\n",
      "400/400 [==============================] - 27s 67ms/step - loss: 0.0679\n",
      "Epoch 19/50\n",
      "400/400 [==============================] - 28s 70ms/step - loss: 0.0668\n",
      "Epoch 20/50\n",
      "400/400 [==============================] - 27s 68ms/step - loss: 0.0658\n",
      "Epoch 21/50\n",
      "400/400 [==============================] - 27s 67ms/step - loss: 0.0648\n",
      "Epoch 22/50\n",
      "400/400 [==============================] - 27s 68ms/step - loss: 0.0639\n",
      "Epoch 23/50\n",
      "400/400 [==============================] - 27s 67ms/step - loss: 0.0631\n",
      "Epoch 24/50\n",
      "400/400 [==============================] - 27s 68ms/step - loss: 0.0622\n",
      "Epoch 25/50\n",
      "400/400 [==============================] - 27s 68ms/step - loss: 0.0615\n",
      "Epoch 26/50\n",
      "400/400 [==============================] - 28s 70ms/step - loss: 0.0607\n",
      "Epoch 27/50\n",
      "400/400 [==============================] - 29s 72ms/step - loss: 0.0600 0s - loss\n",
      "Epoch 28/50\n",
      "400/400 [==============================] - 26s 65ms/step - loss: 0.0594\n",
      "Epoch 29/50\n",
      "400/400 [==============================] - 27s 67ms/step - loss: 0.0587\n",
      "Epoch 30/50\n",
      "400/400 [==============================] - 28s 69ms/step - loss: 0.0581\n",
      "Epoch 31/50\n",
      "400/400 [==============================] - 26s 66ms/step - loss: 0.0576\n",
      "Epoch 32/50\n",
      "400/400 [==============================] - 26s 66ms/step - loss: 0.0570\n",
      "Epoch 33/50\n",
      "400/400 [==============================] - 26s 65ms/step - loss: 0.0564\n",
      "Epoch 34/50\n",
      "400/400 [==============================] - 27s 67ms/step - loss: 0.0560\n",
      "Epoch 35/50\n",
      "400/400 [==============================] - 26s 65ms/step - loss: 0.0555\n",
      "Epoch 36/50\n",
      "400/400 [==============================] - 27s 69ms/step - loss: 0.0550\n",
      "Epoch 37/50\n",
      "400/400 [==============================] - 26s 65ms/step - loss: 0.0546\n",
      "Epoch 38/50\n",
      "400/400 [==============================] - 26s 66ms/step - loss: 0.0541\n",
      "Epoch 39/50\n",
      "400/400 [==============================] - 26s 66ms/step - loss: 0.0536\n",
      "Epoch 40/50\n",
      "400/400 [==============================] - 27s 67ms/step - loss: 0.0532\n",
      "Epoch 41/50\n",
      "400/400 [==============================] - 27s 69ms/step - loss: 0.0529\n",
      "Epoch 42/50\n",
      "400/400 [==============================] - 27s 68ms/step - loss: 0.0524\n",
      "Epoch 43/50\n",
      "400/400 [==============================] - 25s 63ms/step - loss: 0.0520 0s - loss: 0.05\n",
      "Epoch 44/50\n",
      "400/400 [==============================] - 27s 68ms/step - loss: 0.0517\n",
      "Epoch 45/50\n",
      "400/400 [==============================] - 26s 66ms/step - loss: 0.0513\n",
      "Epoch 46/50\n",
      "400/400 [==============================] - 28s 69ms/step - loss: 0.0509\n",
      "Epoch 47/50\n",
      "400/400 [==============================] - 28s 69ms/step - loss: 0.0506\n",
      "Epoch 48/50\n",
      "400/400 [==============================] - 29s 73ms/step - loss: 0.0503\n",
      "Epoch 49/50\n",
      "400/400 [==============================] - 28s 71ms/step - loss: 0.0499\n",
      "Epoch 50/50\n",
      "400/400 [==============================] - 29s 72ms/step - loss: 0.0496\n"
     ]
    },
    {
     "data": {
      "text/plain": [
       "<keras.callbacks.History at 0x1f71239a730>"
      ]
     },
     "execution_count": 5,
     "metadata": {},
     "output_type": "execute_result"
    }
   ],
   "source": [
    "Label = tf.cast(Label, tf.float32)\n",
    "model.fit(H_input, Label, batch_size=500, epochs=50)"
   ]
  },
  {
   "cell_type": "code",
   "execution_count": 6,
   "id": "9ed1b75a",
   "metadata": {},
   "outputs": [],
   "source": [
    "model.save(\"my_h5_model11.h5\")\n"
   ]
  },
  {
   "cell_type": "code",
   "execution_count": 6,
   "id": "308007d3",
   "metadata": {},
   "outputs": [
    {
     "name": "stdout",
     "output_type": "stream",
     "text": [
      "(144, 5, 3)\n"
     ]
    },
    {
     "data": {
      "text/plain": [
       "<tf.Tensor: shape=(2, 144), dtype=float32, numpy=\n",
       "array([[0., 0., 0., 0., 0., 0., 0., 0., 0., 0., 0., 0., 0., 0., 0., 0.,\n",
       "        0., 0., 0., 0., 0., 0., 0., 0., 0., 0., 0., 0., 0., 0., 0., 0.,\n",
       "        0., 0., 0., 0., 0., 0., 0., 0., 0., 0., 0., 0., 0., 0., 0., 0.,\n",
       "        0., 0., 0., 0., 0., 0., 0., 0., 0., 0., 0., 0., 0., 0., 0., 0.,\n",
       "        0., 0., 0., 0., 0., 0., 0., 0., 0., 0., 0., 0., 0., 0., 0., 0.,\n",
       "        0., 0., 0., 0., 0., 0., 0., 0., 0., 0., 0., 0., 0., 0., 0., 0.,\n",
       "        0., 0., 0., 0., 0., 0., 0., 0., 0., 0., 0., 0., 0., 0., 0., 0.,\n",
       "        0., 0., 0., 0., 0., 0., 0., 0., 0., 0., 0., 0., 0., 0., 0., 0.,\n",
       "        0., 0., 0., 0., 0., 0., 0., 0., 0., 0., 0., 0., 0., 0., 0., 0.],\n",
       "       [0., 0., 0., 0., 0., 0., 0., 0., 0., 0., 0., 0., 0., 0., 0., 0.,\n",
       "        0., 0., 0., 0., 0., 0., 0., 0., 0., 0., 0., 0., 0., 0., 0., 0.,\n",
       "        0., 0., 0., 0., 0., 0., 0., 0., 0., 0., 0., 0., 0., 0., 0., 0.,\n",
       "        0., 0., 0., 0., 0., 0., 0., 0., 0., 0., 0., 0., 0., 0., 0., 0.,\n",
       "        0., 0., 0., 0., 0., 0., 0., 0., 0., 0., 0., 0., 0., 0., 0., 0.,\n",
       "        0., 0., 0., 0., 0., 0., 0., 0., 0., 0., 0., 0., 0., 0., 0., 0.,\n",
       "        0., 0., 0., 0., 0., 0., 0., 0., 0., 0., 0., 0., 0., 0., 0., 0.,\n",
       "        0., 0., 0., 0., 0., 0., 0., 0., 0., 0., 0., 0., 0., 0., 0., 0.,\n",
       "        0., 0., 0., 0., 0., 0., 0., 0., 0., 0., 0., 0., 0., 0., 0., 0.]],\n",
       "      dtype=float32)>"
      ]
     },
     "execution_count": 6,
     "metadata": {},
     "output_type": "execute_result"
    }
   ],
   "source": [
    "print(H_input[1].shape)\n",
    "tf.math.round(model.predict(H_input[0:2]))-Label[0:2]\n",
    "#print(Label[0:1])"
   ]
  },
  {
   "cell_type": "code",
   "execution_count": null,
   "id": "6f8a4cfe",
   "metadata": {},
   "outputs": [],
   "source": []
  },
  {
   "cell_type": "code",
   "execution_count": null,
   "id": "7a43b00c",
   "metadata": {},
   "outputs": [],
   "source": []
  }
 ],
 "metadata": {
  "kernelspec": {
   "display_name": "Python 3 (ipykernel)",
   "language": "python",
   "name": "python3"
  },
  "language_info": {
   "codemirror_mode": {
    "name": "ipython",
    "version": 3
   },
   "file_extension": ".py",
   "mimetype": "text/x-python",
   "name": "python",
   "nbconvert_exporter": "python",
   "pygments_lexer": "ipython3",
   "version": "3.9.7"
  }
 },
 "nbformat": 4,
 "nbformat_minor": 5
}
